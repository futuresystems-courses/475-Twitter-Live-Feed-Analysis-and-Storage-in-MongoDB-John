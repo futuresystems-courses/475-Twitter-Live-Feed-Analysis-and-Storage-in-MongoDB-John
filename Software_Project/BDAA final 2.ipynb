{
 "cells": [
  {
   "cell_type": "code",
   "execution_count": 1,
   "metadata": {
    "collapsed": false
   },
   "outputs": [],
   "source": [
    "\n",
    "import pandas as pd\n",
    "from pandas import DataFrame\n",
    "import json\n",
    "\n",
    "with open('BDAA.json') as f:\n",
    "    df = DataFrame(json.loads(line) for line in f)\n",
    "\n"
   ]
  },
  {
   "cell_type": "code",
   "execution_count": 2,
   "metadata": {
    "collapsed": false
   },
   "outputs": [
    {
     "data": {
      "text/html": [
       "<div>\n",
       "<table border=\"1\" class=\"dataframe\">\n",
       "  <thead>\n",
       "    <tr style=\"text-align: right;\">\n",
       "      <th></th>\n",
       "      <th>_id</th>\n",
       "      <th>contributors</th>\n",
       "      <th>coordinates</th>\n",
       "      <th>created_at</th>\n",
       "      <th>entities</th>\n",
       "      <th>extended_entities</th>\n",
       "      <th>favorite_count</th>\n",
       "      <th>favorited</th>\n",
       "      <th>filter_level</th>\n",
       "      <th>geo</th>\n",
       "      <th>...</th>\n",
       "      <th>quoted_status_id</th>\n",
       "      <th>quoted_status_id_str</th>\n",
       "      <th>retweet_count</th>\n",
       "      <th>retweeted</th>\n",
       "      <th>retweeted_status</th>\n",
       "      <th>source</th>\n",
       "      <th>text</th>\n",
       "      <th>timestamp_ms</th>\n",
       "      <th>truncated</th>\n",
       "      <th>user</th>\n",
       "    </tr>\n",
       "  </thead>\n",
       "  <tbody>\n",
       "    <tr>\n",
       "      <th>0</th>\n",
       "      <td>{u'$oid': u'56674dd2795cef1ba469bb9b'}</td>\n",
       "      <td>None</td>\n",
       "      <td>None</td>\n",
       "      <td>Tue Dec 08 21:38:28 +0000 2015</td>\n",
       "      <td>{u'symbols': [], u'user_mentions': [], u'hasht...</td>\n",
       "      <td>NaN</td>\n",
       "      <td>0</td>\n",
       "      <td>False</td>\n",
       "      <td>low</td>\n",
       "      <td>None</td>\n",
       "      <td>...</td>\n",
       "      <td>NaN</td>\n",
       "      <td>NaN</td>\n",
       "      <td>0</td>\n",
       "      <td>False</td>\n",
       "      <td>NaN</td>\n",
       "      <td>&lt;a href=\"http://twitter.com\" rel=\"nofollow\"&gt;Tw...</td>\n",
       "      <td>Has Donald Trump ever actually been to London?</td>\n",
       "      <td>1449610708995</td>\n",
       "      <td>False</td>\n",
       "      <td>{u'follow_request_sent': None, u'profile_use_b...</td>\n",
       "    </tr>\n",
       "    <tr>\n",
       "      <th>1</th>\n",
       "      <td>{u'$oid': u'56674dd2795cef1ba469bb9c'}</td>\n",
       "      <td>None</td>\n",
       "      <td>None</td>\n",
       "      <td>Tue Dec 08 21:38:28 +0000 2015</td>\n",
       "      <td>{u'symbols': [], u'user_mentions': [{u'indices...</td>\n",
       "      <td>NaN</td>\n",
       "      <td>0</td>\n",
       "      <td>False</td>\n",
       "      <td>low</td>\n",
       "      <td>None</td>\n",
       "      <td>...</td>\n",
       "      <td>NaN</td>\n",
       "      <td>NaN</td>\n",
       "      <td>0</td>\n",
       "      <td>False</td>\n",
       "      <td>{u'contributors': None, u'truncated': False, u...</td>\n",
       "      <td>&lt;a href=\"http://twitter.com/download/iphone\" r...</td>\n",
       "      <td>RT @DavidLimbaugh: Regardless of your opinion ...</td>\n",
       "      <td>1449610708958</td>\n",
       "      <td>False</td>\n",
       "      <td>{u'follow_request_sent': None, u'profile_use_b...</td>\n",
       "    </tr>\n",
       "    <tr>\n",
       "      <th>2</th>\n",
       "      <td>{u'$oid': u'56674dd2795cef1ba469bb9d'}</td>\n",
       "      <td>None</td>\n",
       "      <td>None</td>\n",
       "      <td>Tue Dec 08 21:38:29 +0000 2015</td>\n",
       "      <td>{u'symbols': [], u'user_mentions': [{u'indices...</td>\n",
       "      <td>NaN</td>\n",
       "      <td>0</td>\n",
       "      <td>False</td>\n",
       "      <td>low</td>\n",
       "      <td>None</td>\n",
       "      <td>...</td>\n",
       "      <td>NaN</td>\n",
       "      <td>NaN</td>\n",
       "      <td>0</td>\n",
       "      <td>False</td>\n",
       "      <td>{u'contributors': None, u'truncated': False, u...</td>\n",
       "      <td>&lt;a href=\"http://twitter.com/download/iphone\" r...</td>\n",
       "      <td>RT @okaymoe: Donald Trump look like a crispy L...</td>\n",
       "      <td>1449610709155</td>\n",
       "      <td>False</td>\n",
       "      <td>{u'follow_request_sent': None, u'profile_use_b...</td>\n",
       "    </tr>\n",
       "    <tr>\n",
       "      <th>3</th>\n",
       "      <td>{u'$oid': u'56674dd2795cef1ba469bb9e'}</td>\n",
       "      <td>None</td>\n",
       "      <td>None</td>\n",
       "      <td>Tue Dec 08 21:38:29 +0000 2015</td>\n",
       "      <td>{u'symbols': [], u'user_mentions': [{u'indices...</td>\n",
       "      <td>NaN</td>\n",
       "      <td>0</td>\n",
       "      <td>False</td>\n",
       "      <td>low</td>\n",
       "      <td>None</td>\n",
       "      <td>...</td>\n",
       "      <td>NaN</td>\n",
       "      <td>NaN</td>\n",
       "      <td>0</td>\n",
       "      <td>False</td>\n",
       "      <td>{u'contributors': None, u'truncated': False, u...</td>\n",
       "      <td>&lt;a href=\"http://twitter.com/download/iphone\" r...</td>\n",
       "      <td>RT @LordSnow: Arya's list:\\n\\n-The Mountain\\n-...</td>\n",
       "      <td>1449610709190</td>\n",
       "      <td>False</td>\n",
       "      <td>{u'follow_request_sent': None, u'profile_use_b...</td>\n",
       "    </tr>\n",
       "    <tr>\n",
       "      <th>4</th>\n",
       "      <td>{u'$oid': u'56674dd2795cef1ba469bb9f'}</td>\n",
       "      <td>None</td>\n",
       "      <td>None</td>\n",
       "      <td>Tue Dec 08 21:38:29 +0000 2015</td>\n",
       "      <td>{u'symbols': [], u'user_mentions': [{u'indices...</td>\n",
       "      <td>NaN</td>\n",
       "      <td>0</td>\n",
       "      <td>False</td>\n",
       "      <td>low</td>\n",
       "      <td>None</td>\n",
       "      <td>...</td>\n",
       "      <td>{u'$numberLong': u'674340376996614144'}</td>\n",
       "      <td>674340376996614144</td>\n",
       "      <td>0</td>\n",
       "      <td>False</td>\n",
       "      <td>NaN</td>\n",
       "      <td>&lt;a href=\"http://twitter.com/download/iphone\" r...</td>\n",
       "      <td>@MK8 @xJMxMara OMG THIS IS SO TRUE!! MUST RT A...</td>\n",
       "      <td>1449610709025</td>\n",
       "      <td>False</td>\n",
       "      <td>{u'follow_request_sent': None, u'profile_use_b...</td>\n",
       "    </tr>\n",
       "  </tbody>\n",
       "</table>\n",
       "<p>5 rows × 32 columns</p>\n",
       "</div>"
      ],
      "text/plain": [
       "                                      _id contributors coordinates  \\\n",
       "0  {u'$oid': u'56674dd2795cef1ba469bb9b'}         None        None   \n",
       "1  {u'$oid': u'56674dd2795cef1ba469bb9c'}         None        None   \n",
       "2  {u'$oid': u'56674dd2795cef1ba469bb9d'}         None        None   \n",
       "3  {u'$oid': u'56674dd2795cef1ba469bb9e'}         None        None   \n",
       "4  {u'$oid': u'56674dd2795cef1ba469bb9f'}         None        None   \n",
       "\n",
       "                       created_at  \\\n",
       "0  Tue Dec 08 21:38:28 +0000 2015   \n",
       "1  Tue Dec 08 21:38:28 +0000 2015   \n",
       "2  Tue Dec 08 21:38:29 +0000 2015   \n",
       "3  Tue Dec 08 21:38:29 +0000 2015   \n",
       "4  Tue Dec 08 21:38:29 +0000 2015   \n",
       "\n",
       "                                            entities extended_entities  \\\n",
       "0  {u'symbols': [], u'user_mentions': [], u'hasht...               NaN   \n",
       "1  {u'symbols': [], u'user_mentions': [{u'indices...               NaN   \n",
       "2  {u'symbols': [], u'user_mentions': [{u'indices...               NaN   \n",
       "3  {u'symbols': [], u'user_mentions': [{u'indices...               NaN   \n",
       "4  {u'symbols': [], u'user_mentions': [{u'indices...               NaN   \n",
       "\n",
       "   favorite_count favorited filter_level   geo  \\\n",
       "0               0     False          low  None   \n",
       "1               0     False          low  None   \n",
       "2               0     False          low  None   \n",
       "3               0     False          low  None   \n",
       "4               0     False          low  None   \n",
       "\n",
       "                         ...                          \\\n",
       "0                        ...                           \n",
       "1                        ...                           \n",
       "2                        ...                           \n",
       "3                        ...                           \n",
       "4                        ...                           \n",
       "\n",
       "                          quoted_status_id quoted_status_id_str retweet_count  \\\n",
       "0                                      NaN                  NaN             0   \n",
       "1                                      NaN                  NaN             0   \n",
       "2                                      NaN                  NaN             0   \n",
       "3                                      NaN                  NaN             0   \n",
       "4  {u'$numberLong': u'674340376996614144'}   674340376996614144             0   \n",
       "\n",
       "  retweeted                                   retweeted_status  \\\n",
       "0     False                                                NaN   \n",
       "1     False  {u'contributors': None, u'truncated': False, u...   \n",
       "2     False  {u'contributors': None, u'truncated': False, u...   \n",
       "3     False  {u'contributors': None, u'truncated': False, u...   \n",
       "4     False                                                NaN   \n",
       "\n",
       "                                              source  \\\n",
       "0  <a href=\"http://twitter.com\" rel=\"nofollow\">Tw...   \n",
       "1  <a href=\"http://twitter.com/download/iphone\" r...   \n",
       "2  <a href=\"http://twitter.com/download/iphone\" r...   \n",
       "3  <a href=\"http://twitter.com/download/iphone\" r...   \n",
       "4  <a href=\"http://twitter.com/download/iphone\" r...   \n",
       "\n",
       "                                                text   timestamp_ms truncated  \\\n",
       "0     Has Donald Trump ever actually been to London?  1449610708995     False   \n",
       "1  RT @DavidLimbaugh: Regardless of your opinion ...  1449610708958     False   \n",
       "2  RT @okaymoe: Donald Trump look like a crispy L...  1449610709155     False   \n",
       "3  RT @LordSnow: Arya's list:\\n\\n-The Mountain\\n-...  1449610709190     False   \n",
       "4  @MK8 @xJMxMara OMG THIS IS SO TRUE!! MUST RT A...  1449610709025     False   \n",
       "\n",
       "                                                user  \n",
       "0  {u'follow_request_sent': None, u'profile_use_b...  \n",
       "1  {u'follow_request_sent': None, u'profile_use_b...  \n",
       "2  {u'follow_request_sent': None, u'profile_use_b...  \n",
       "3  {u'follow_request_sent': None, u'profile_use_b...  \n",
       "4  {u'follow_request_sent': None, u'profile_use_b...  \n",
       "\n",
       "[5 rows x 32 columns]"
      ]
     },
     "execution_count": 2,
     "metadata": {},
     "output_type": "execute_result"
    }
   ],
   "source": [
    "df.head()\n"
   ]
  },
  {
   "cell_type": "code",
   "execution_count": 16,
   "metadata": {
    "collapsed": false
   },
   "outputs": [],
   "source": [
    "#Create a new dataframe using only the tweets\n",
    "df2=DataFrame(df['text'])\n",
    "df2.columns=['tweets']"
   ]
  },
  {
   "cell_type": "code",
   "execution_count": 17,
   "metadata": {
    "collapsed": false
   },
   "outputs": [
    {
     "data": {
      "text/html": [
       "<div>\n",
       "<table border=\"1\" class=\"dataframe\">\n",
       "  <thead>\n",
       "    <tr style=\"text-align: right;\">\n",
       "      <th></th>\n",
       "      <th>tweets</th>\n",
       "    </tr>\n",
       "  </thead>\n",
       "  <tbody>\n",
       "    <tr>\n",
       "      <th>0</th>\n",
       "      <td>Has Donald Trump ever actually been to London?</td>\n",
       "    </tr>\n",
       "    <tr>\n",
       "      <th>1</th>\n",
       "      <td>RT @DavidLimbaugh: Regardless of your opinion ...</td>\n",
       "    </tr>\n",
       "    <tr>\n",
       "      <th>2</th>\n",
       "      <td>RT @okaymoe: Donald Trump look like a crispy L...</td>\n",
       "    </tr>\n",
       "    <tr>\n",
       "      <th>3</th>\n",
       "      <td>RT @LordSnow: Arya's list:\\n\\n-The Mountain\\n-...</td>\n",
       "    </tr>\n",
       "    <tr>\n",
       "      <th>4</th>\n",
       "      <td>@MK8 @xJMxMara OMG THIS IS SO TRUE!! MUST RT A...</td>\n",
       "    </tr>\n",
       "  </tbody>\n",
       "</table>\n",
       "</div>"
      ],
      "text/plain": [
       "                                              tweets\n",
       "0     Has Donald Trump ever actually been to London?\n",
       "1  RT @DavidLimbaugh: Regardless of your opinion ...\n",
       "2  RT @okaymoe: Donald Trump look like a crispy L...\n",
       "3  RT @LordSnow: Arya's list:\\n\\n-The Mountain\\n-...\n",
       "4  @MK8 @xJMxMara OMG THIS IS SO TRUE!! MUST RT A..."
      ]
     },
     "execution_count": 17,
     "metadata": {},
     "output_type": "execute_result"
    }
   ],
   "source": [
    "df2.head()"
   ]
  },
  {
   "cell_type": "code",
   "execution_count": 5,
   "metadata": {
    "collapsed": false
   },
   "outputs": [],
   "source": [
    "\n",
    "# Break down tweets into three lists, depending upon whether they contain the word Trump, Clinton or both. I will use \n",
    "#This for analysis later. I AM AWARE that if I would've made everything lower-case first, I could have accomplished\n",
    "# what is below with half the code. But, this is a learning process, isn't it?\n",
    "clinton_list=[]\n",
    "trump_list=[]\n",
    "trump_and_clinton=[]\n",
    "\n",
    "for i in df2['tweets']:\n",
    "    if \"Clinton\" in i and \"trump\" and \"Trump\" not in i:\n",
    "        clinton_list.append(i)\n",
    "    elif \"clinton\" in i and \"trump\" and \"Trump\" not in i:\n",
    "        clinton_list.append(i)\n",
    "    elif \"trump\" in i and \"clinton\" and \"Clinton\" not in i:\n",
    "        trump_list.append(i)\n",
    "    elif \"Trump\" in i and \"clinton\" and \"Clinton\" not in i:\n",
    "        trump_list.append(i)\n",
    "    elif \"trump\" and \"clinton\"in i:\n",
    "        trump_and_clinton.append(i)\n",
    "    elif \"Trump\" and \"clinton\"in i:\n",
    "        trump_and_clinton.append(i)\n",
    "    elif \"trump\" and \"Clinton\"in i:\n",
    "        trump_and_clinton.append(i)\n",
    "    elif \"Trump\" and \"Clinton\"in i:\n",
    "        trump_and_clinton.append(i)\n",
    "\n",
    "    else:\n",
    "        continue"
   ]
  },
  {
   "cell_type": "code",
   "execution_count": 6,
   "metadata": {
    "collapsed": false
   },
   "outputs": [
    {
     "data": {
      "text/plain": [
       "1428"
      ]
     },
     "execution_count": 6,
     "metadata": {},
     "output_type": "execute_result"
    }
   ],
   "source": [
    "len(clinton_list)"
   ]
  },
  {
   "cell_type": "code",
   "execution_count": 7,
   "metadata": {
    "collapsed": false
   },
   "outputs": [],
   "source": [
    "#Make all the tweets lower-case. Again, this will be used later.\n",
    "trump_list2=[x.lower() for x in trump_list]\n",
    "clinton_list2=[x.lower() for x in clinton_list]\n",
    "trump_and_clinton2=[x.lower() for x in trump_and_clinton]\n",
    "    "
   ]
  },
  {
   "cell_type": "code",
   "execution_count": 8,
   "metadata": {
    "collapsed": false
   },
   "outputs": [],
   "source": [
    "#Remove non-alphanumeric characters and replace with blank\n",
    "import re\n",
    "trump_list3=[]\n",
    "rex = re.compile(r'\\W')\n",
    "for s in trump_list2:\n",
    "    result = rex.sub(' ', s)\n",
    "    trump_list3.append(result)\n"
   ]
  },
  {
   "cell_type": "code",
   "execution_count": 9,
   "metadata": {
    "collapsed": true
   },
   "outputs": [],
   "source": [
    "import re\n",
    "clinton_list3=[]\n",
    "rex = re.compile(r'\\W')\n",
    "for s in clinton_list2:\n",
    "    result = rex.sub(' ', s)\n",
    "    clinton_list3.append(result)"
   ]
  },
  {
   "cell_type": "code",
   "execution_count": 10,
   "metadata": {
    "collapsed": true
   },
   "outputs": [],
   "source": [
    "import re\n",
    "trump_and_clinton3=[]\n",
    "rex = re.compile(r'\\W')\n",
    "for s in trump_and_clinton2:\n",
    "    result = rex.sub(' ', s)\n",
    "    trump_and_clinton3.append(result)"
   ]
  },
  {
   "cell_type": "code",
   "execution_count": 11,
   "metadata": {
    "collapsed": false
   },
   "outputs": [],
   "source": [
    "trump_list_df=DataFrame(trump_list3)\n",
    "clinton_list_df=DataFrame(clinton_list3)\n",
    "trump_and_clinton_df=DataFrame(trump_and_clinton3)"
   ]
  },
  {
   "cell_type": "code",
   "execution_count": 12,
   "metadata": {
    "collapsed": false
   },
   "outputs": [
    {
     "data": {
      "text/html": [
       "<div>\n",
       "<table border=\"1\" class=\"dataframe\">\n",
       "  <thead>\n",
       "    <tr style=\"text-align: right;\">\n",
       "      <th></th>\n",
       "      <th>0</th>\n",
       "    </tr>\n",
       "  </thead>\n",
       "  <tbody>\n",
       "    <tr>\n",
       "      <th>0</th>\n",
       "      <td>rt  iainmartin1  here s hillary clinton condem...</td>\n",
       "    </tr>\n",
       "    <tr>\n",
       "      <th>1</th>\n",
       "      <td>rt  hillaryclinton  trump s hateful comments a...</td>\n",
       "    </tr>\n",
       "    <tr>\n",
       "      <th>2</th>\n",
       "      <td>rt  iainmartin1  here s hillary clinton condem...</td>\n",
       "    </tr>\n",
       "    <tr>\n",
       "      <th>3</th>\n",
       "      <td>the two leading presidential candidates    cli...</td>\n",
       "    </tr>\n",
       "    <tr>\n",
       "      <th>4</th>\n",
       "      <td>rt  hillaryclinton  this is reprehensible  pre...</td>\n",
       "    </tr>\n",
       "  </tbody>\n",
       "</table>\n",
       "</div>"
      ],
      "text/plain": [
       "                                                   0\n",
       "0  rt  iainmartin1  here s hillary clinton condem...\n",
       "1  rt  hillaryclinton  trump s hateful comments a...\n",
       "2  rt  iainmartin1  here s hillary clinton condem...\n",
       "3  the two leading presidential candidates    cli...\n",
       "4  rt  hillaryclinton  this is reprehensible  pre..."
      ]
     },
     "execution_count": 12,
     "metadata": {},
     "output_type": "execute_result"
    }
   ],
   "source": [
    "trump_and_clinton_df.head()"
   ]
  },
  {
   "cell_type": "code",
   "execution_count": 13,
   "metadata": {
    "collapsed": false
   },
   "outputs": [],
   "source": [
    "#To analyze most popular @ and # mentions, the tweets containing each must be isolated\n",
    "strings=DataFrame([])\n",
    "def at_fun(strings):\n",
    "    for string in strings:\n",
    "        if '@' in strings:\n",
    "            string=strings.split()\n",
    "        if '@' not in strings:\n",
    "            continue\n",
    "        return strings\n",
    "def hash_fun(strings):\n",
    "    for string in strings:\n",
    "        if '#' in strings:\n",
    "            string=strings.split()\n",
    "        if '#' not in strings:\n",
    "            continue\n",
    "        return strings"
   ]
  },
  {
   "cell_type": "code",
   "execution_count": 19,
   "metadata": {
    "collapsed": false
   },
   "outputs": [],
   "source": [
    "#Apply functions to generate two new columns for tweets that contain either a hashtag or at-symbol\n",
    "df2['ats']=df2['tweets'].apply(at_fun)\n",
    "df2['hash']=df2['tweets'].apply(hash_fun)\n"
   ]
  },
  {
   "cell_type": "code",
   "execution_count": 20,
   "metadata": {
    "collapsed": false
   },
   "outputs": [],
   "source": [
    "# Now all other text needs to be seperated into different rows, so non-hash and at-symbol words can be isolated\n",
    "#Split all words into new rows\n",
    "s = df2[\"ats\"].str.split(' ').apply(pd.Series, 1).stack()\n",
    "t = df2[\"hash\"].str.split(' ').apply(pd.Series, 1).stack()"
   ]
  },
  {
   "cell_type": "code",
   "execution_count": 21,
   "metadata": {
    "collapsed": true
   },
   "outputs": [],
   "source": [
    "#Apply functions again to save only words with a hashtag or at symbol\n",
    "at_trim_df=pd.Series([at_fun(x) for x in s])\n",
    "hash_trim_df=pd.Series([hash_fun(x) for x in t])"
   ]
  },
  {
   "cell_type": "code",
   "execution_count": 22,
   "metadata": {
    "collapsed": false
   },
   "outputs": [],
   "source": [
    "#Drop null values that were words that did not contain a symbol\n",
    "hash_trim_df=DataFrame(hash_trim_df.dropna())\n",
    "at_trim_df=DataFrame(at_trim_df.dropna())\n"
   ]
  },
  {
   "cell_type": "code",
   "execution_count": 23,
   "metadata": {
    "collapsed": false
   },
   "outputs": [
    {
     "data": {
      "text/html": [
       "<div>\n",
       "<table border=\"1\" class=\"dataframe\">\n",
       "  <thead>\n",
       "    <tr style=\"text-align: right;\">\n",
       "      <th></th>\n",
       "      <th>0</th>\n",
       "    </tr>\n",
       "  </thead>\n",
       "  <tbody>\n",
       "    <tr>\n",
       "      <th>10</th>\n",
       "      <td>#TrumpIsDisqualifiedParty</td>\n",
       "    </tr>\n",
       "    <tr>\n",
       "      <th>28</th>\n",
       "      <td>#TrumpIsDisqualifiedParty</td>\n",
       "    </tr>\n",
       "    <tr>\n",
       "      <th>32</th>\n",
       "      <td>#YouMightBeALiberal</td>\n",
       "    </tr>\n",
       "    <tr>\n",
       "      <th>65</th>\n",
       "      <td>#usa</td>\n",
       "    </tr>\n",
       "    <tr>\n",
       "      <th>66</th>\n",
       "      <td>#trump</td>\n",
       "    </tr>\n",
       "  </tbody>\n",
       "</table>\n",
       "</div>"
      ],
      "text/plain": [
       "                            0\n",
       "10  #TrumpIsDisqualifiedParty\n",
       "28  #TrumpIsDisqualifiedParty\n",
       "32        #YouMightBeALiberal\n",
       "65                       #usa\n",
       "66                     #trump"
      ]
     },
     "execution_count": 23,
     "metadata": {},
     "output_type": "execute_result"
    }
   ],
   "source": [
    "hash_trim_df.head()"
   ]
  },
  {
   "cell_type": "code",
   "execution_count": 24,
   "metadata": {
    "collapsed": false
   },
   "outputs": [],
   "source": [
    "#Make all letters lower\n",
    "def lower_fun(words):\n",
    "    word=words.lower()\n",
    "    return word"
   ]
  },
  {
   "cell_type": "code",
   "execution_count": 25,
   "metadata": {
    "collapsed": false
   },
   "outputs": [],
   "source": [
    "at_trim_df.columns=['at']\n",
    "hash_trim_df.columns=['hash']"
   ]
  },
  {
   "cell_type": "code",
   "execution_count": 26,
   "metadata": {
    "collapsed": false
   },
   "outputs": [],
   "source": [
    "hash_trim_df_clean=hash_trim_df['hash'].apply(lower_fun)\n",
    "at_trim_df_clean=at_trim_df['at'].apply(lower_fun)"
   ]
  },
  {
   "cell_type": "code",
   "execution_count": 27,
   "metadata": {
    "collapsed": false
   },
   "outputs": [],
   "source": [
    "#trim colon\n",
    "at_trim_df_clean=at_trim_df_clean.replace(to_replace=\":\", value=\"\",regex=True)\n",
    "\n",
    "hash_trim_df_clean=hash_trim_df_clean.replace(to_replace=\":\", value=\"\",regex=True)\n"
   ]
  },
  {
   "cell_type": "code",
   "execution_count": 28,
   "metadata": {
    "collapsed": true
   },
   "outputs": [],
   "source": [
    "#Because we see trump and trump. counted as different hashtags, when we count hashes, \n",
    "#we need to remove periods from the end of the hashes\n",
    "\n",
    "\n",
    "def period_fun(strings):\n",
    "    for string in strings:\n",
    "        if ('.') in strings[-1]:\n",
    "            string=strings[0:-1] \n",
    "        else:\n",
    "            string=strings\n",
    "        return string"
   ]
  },
  {
   "cell_type": "code",
   "execution_count": 29,
   "metadata": {
    "collapsed": false
   },
   "outputs": [],
   "source": [
    "hash_trim_df_clean=hash_trim_df_clean.apply(period_fun)"
   ]
  },
  {
   "cell_type": "code",
   "execution_count": 30,
   "metadata": {
    "collapsed": false
   },
   "outputs": [
    {
     "data": {
      "text/plain": [
       "10    #trumpisdisqualifiedparty\n",
       "28    #trumpisdisqualifiedparty\n",
       "32          #youmightbealiberal\n",
       "65                         #usa\n",
       "66                       #trump\n",
       "Name: hash, dtype: object"
      ]
     },
     "execution_count": 30,
     "metadata": {},
     "output_type": "execute_result"
    }
   ],
   "source": [
    "hash_trim_df_clean.head()"
   ]
  },
  {
   "cell_type": "code",
   "execution_count": 31,
   "metadata": {
    "collapsed": false
   },
   "outputs": [],
   "source": [
    "#Counts all values in column and returns it as an array\n",
    "at_trim_df_clean=DataFrame(at_trim_df_clean)\n",
    "hash_trim_df_clean=DataFrame(hash_trim_df_clean)\n",
    "at_trim_df_counts= at_trim_df_clean.stack().value_counts()\n",
    "\n",
    "hash_trim_df_counts= hash_trim_df_clean.stack().value_counts()"
   ]
  },
  {
   "cell_type": "code",
   "execution_count": 32,
   "metadata": {
    "collapsed": false
   },
   "outputs": [],
   "source": [
    "hash_trim_df_counts=DataFrame(hash_trim_df_counts)\n",
    "at_trim_df_counts=DataFrame(at_trim_df_counts)\n"
   ]
  },
  {
   "cell_type": "code",
   "execution_count": 33,
   "metadata": {
    "collapsed": true
   },
   "outputs": [],
   "source": [
    "hash_trim_df_counts.columns=[\"Count\"]\n",
    "at_trim_df_counts.columns=[\"Count\"]"
   ]
  },
  {
   "cell_type": "code",
   "execution_count": 34,
   "metadata": {
    "collapsed": false
   },
   "outputs": [
    {
     "data": {
      "text/html": [
       "<div>\n",
       "<table border=\"1\" class=\"dataframe\">\n",
       "  <thead>\n",
       "    <tr style=\"text-align: right;\">\n",
       "      <th></th>\n",
       "      <th>Count</th>\n",
       "    </tr>\n",
       "  </thead>\n",
       "  <tbody>\n",
       "    <tr>\n",
       "      <th>@realdonaldtrump</th>\n",
       "      <td>1471</td>\n",
       "    </tr>\n",
       "    <tr>\n",
       "      <th>@jk_rowling</th>\n",
       "      <td>791</td>\n",
       "    </tr>\n",
       "    <tr>\n",
       "      <th>@viralbuzznewss</th>\n",
       "      <td>690</td>\n",
       "    </tr>\n",
       "    <tr>\n",
       "      <th>@hoodinigotclout</th>\n",
       "      <td>485</td>\n",
       "    </tr>\n",
       "    <tr>\n",
       "      <th>@foxnews</th>\n",
       "      <td>220</td>\n",
       "    </tr>\n",
       "  </tbody>\n",
       "</table>\n",
       "</div>"
      ],
      "text/plain": [
       "                  Count\n",
       "@realdonaldtrump   1471\n",
       "@jk_rowling         791\n",
       "@viralbuzznewss     690\n",
       "@hoodinigotclout    485\n",
       "@foxnews            220"
      ]
     },
     "execution_count": 34,
     "metadata": {},
     "output_type": "execute_result"
    }
   ],
   "source": [
    "at_trim_df_counts.head()"
   ]
  },
  {
   "cell_type": "code",
   "execution_count": 35,
   "metadata": {
    "collapsed": true
   },
   "outputs": [],
   "source": [
    "#Filter values for those greater-than some threshold:\n",
    "at_trim_df_counts['popular_at']=at_trim_df_counts[\"Count\"]>=148\n",
    "hash_trim_df_counts['popular_at']=hash_trim_df_counts[\"Count\"]>=80"
   ]
  },
  {
   "cell_type": "code",
   "execution_count": 36,
   "metadata": {
    "collapsed": false
   },
   "outputs": [],
   "source": [
    "#SHow only results of true values\n",
    "\n",
    "at_trim_counts_filtered=DataFrame(at_trim_df_counts.loc[at_trim_df_counts['popular_at'] == True])\n",
    "\n",
    "hash_trim_counts_filtered=DataFrame(hash_trim_df_counts.loc[hash_trim_df_counts['popular_at'] == True])"
   ]
  },
  {
   "cell_type": "code",
   "execution_count": 37,
   "metadata": {
    "collapsed": false
   },
   "outputs": [
    {
     "data": {
      "text/html": [
       "<div>\n",
       "<table border=\"1\" class=\"dataframe\">\n",
       "  <thead>\n",
       "    <tr style=\"text-align: right;\">\n",
       "      <th></th>\n",
       "      <th>Count</th>\n",
       "      <th>popular_at</th>\n",
       "    </tr>\n",
       "  </thead>\n",
       "  <tbody>\n",
       "    <tr>\n",
       "      <th>#trump</th>\n",
       "      <td>1497</td>\n",
       "      <td>True</td>\n",
       "    </tr>\n",
       "    <tr>\n",
       "      <th>#trump2016</th>\n",
       "      <td>354</td>\n",
       "      <td>True</td>\n",
       "    </tr>\n",
       "    <tr>\n",
       "      <th>#tcot</th>\n",
       "      <td>284</td>\n",
       "      <td>True</td>\n",
       "    </tr>\n",
       "    <tr>\n",
       "      <th>#donaldtrump</th>\n",
       "      <td>282</td>\n",
       "      <td>True</td>\n",
       "    </tr>\n",
       "    <tr>\n",
       "      <th>#trumpisdisqualifiedparty</th>\n",
       "      <td>250</td>\n",
       "      <td>True</td>\n",
       "    </tr>\n",
       "    <tr>\n",
       "      <th>#news</th>\n",
       "      <td>191</td>\n",
       "      <td>True</td>\n",
       "    </tr>\n",
       "    <tr>\n",
       "      <th>#makeamericagreatagain</th>\n",
       "      <td>177</td>\n",
       "      <td>True</td>\n",
       "    </tr>\n",
       "    <tr>\n",
       "      <th>#gop</th>\n",
       "      <td>121</td>\n",
       "      <td>True</td>\n",
       "    </tr>\n",
       "    <tr>\n",
       "      <th>#uniteblue</th>\n",
       "      <td>102</td>\n",
       "      <td>True</td>\n",
       "    </tr>\n",
       "    <tr>\n",
       "      <th>#scream</th>\n",
       "      <td>87</td>\n",
       "      <td>True</td>\n",
       "    </tr>\n",
       "    <tr>\n",
       "      <th>#kids</th>\n",
       "      <td>87</td>\n",
       "      <td>True</td>\n",
       "    </tr>\n",
       "    <tr>\n",
       "      <th>#pinata..</th>\n",
       "      <td>87</td>\n",
       "      <td>True</td>\n",
       "    </tr>\n",
       "    <tr>\n",
       "      <th>#usafricabf</th>\n",
       "      <td>86</td>\n",
       "      <td>True</td>\n",
       "    </tr>\n",
       "    <tr>\n",
       "      <th>#him!</th>\n",
       "      <td>86</td>\n",
       "      <td>True</td>\n",
       "    </tr>\n",
       "    <tr>\n",
       "      <th>#dumptrump</th>\n",
       "      <td>83</td>\n",
       "      <td>True</td>\n",
       "    </tr>\n",
       "    <tr>\n",
       "      <th>#pjnet</th>\n",
       "      <td>83</td>\n",
       "      <td>True</td>\n",
       "    </tr>\n",
       "  </tbody>\n",
       "</table>\n",
       "</div>"
      ],
      "text/plain": [
       "                           Count popular_at\n",
       "#trump                      1497       True\n",
       "#trump2016                   354       True\n",
       "#tcot                        284       True\n",
       "#donaldtrump                 282       True\n",
       "#trumpisdisqualifiedparty    250       True\n",
       "#news                        191       True\n",
       "#makeamericagreatagain       177       True\n",
       "#gop                         121       True\n",
       "#uniteblue                   102       True\n",
       "#scream                       87       True\n",
       "#kids                         87       True\n",
       "#pinata..                     87       True\n",
       "#usafricabf                   86       True\n",
       "#him!                         86       True\n",
       "#dumptrump                    83       True\n",
       "#pjnet                        83       True"
      ]
     },
     "execution_count": 37,
     "metadata": {},
     "output_type": "execute_result"
    }
   ],
   "source": [
    "hash_trim_counts_filtered"
   ]
  },
  {
   "cell_type": "code",
   "execution_count": 38,
   "metadata": {
    "collapsed": false
   },
   "outputs": [
    {
     "data": {
      "image/png": "[encoded data removed]",
      "text/plain": [
       "<matplotlib.figure.Figure at 0x213053c8>"
      ]
     },
     "metadata": {},
     "output_type": "display_data"
    }
   ],
   "source": [
    "#Now we can plot the most popular hashtags\n",
    "import matplotlib.pyplot as plt\n",
    "import seaborn as sns\n",
    "%matplotlib inline\n",
    "\n",
    "plt.figure(num=None, figsize=(8, 4.2), dpi=1000)\n",
    "\n",
    "\n",
    "\n",
    "g=sns.countplot(y=\"Count\", data=hash_trim_counts_filtered,hue=hash_trim_counts_filtered.index, palette=\"Blues_d\")"
   ]
  },
  {
   "cell_type": "code",
   "execution_count": 39,
   "metadata": {
    "collapsed": false
   },
   "outputs": [
    {
     "data": {
      "image/png": "[encoded data removed]",
      "text/plain": [
       "<matplotlib.figure.Figure at 0x69637860>"
      ]
     },
     "metadata": {},
     "output_type": "display_data"
    }
   ],
   "source": [
    "#Now we can plot the most popular at symbols\n",
    "\n",
    "\n",
    "plt.figure(num=None, figsize=(8, 4.2), dpi=1000)\n",
    "\n",
    "\n",
    "\n",
    "g=sns.countplot(y=\"Count\", data=at_trim_counts_filtered,hue=at_trim_counts_filtered.index, palette=\"Blues_d\")"
   ]
  },
  {
   "cell_type": "markdown",
   "metadata": {},
   "source": [
    "Now we can turn to sentiment analysis. I will analyse each of the three lists I made earlier. Citation for the use of the excellent VADER sentiment tool is below.\n",
    "\n",
    "Hutto, C.J. & Gilbert, E.E. (2014). VADER: A Parsimonious Rule-based Model for Sentiment Analysis of Social Media Text. Eighth International Conference on Weblogs and Social Media (ICWSM-14). Ann Arbor, MI, June 2014. "
   ]
  },
  {
   "cell_type": "code",
   "execution_count": 40,
   "metadata": {
    "collapsed": false
   },
   "outputs": [],
   "source": [
    "from vaderSentiment.vaderSentiment import sentiment as vaderSentiment"
   ]
  },
  {
   "cell_type": "code",
   "execution_count": 41,
   "metadata": {
    "collapsed": false
   },
   "outputs": [],
   "source": [
    "trump_list_df.columns=[\"Tweet\"]\n",
    "clinton_list_df.columns=[\"Tweet\"]\n",
    "trump_and_clinton_df.columns=['Tweet']"
   ]
  },
  {
   "cell_type": "code",
   "execution_count": 42,
   "metadata": {
    "collapsed": false
   },
   "outputs": [],
   "source": [
    "#I u se a function to apply the VADER program, so errors do not \"kill\" the process.\n",
    "def sent_fun(word):\n",
    "    for i in word:\n",
    "        try:\n",
    "            s=vaderSentiment(word)\n",
    "            \n",
    "        except:\n",
    "            s=''\n",
    "            \n",
    "        return s\n"
   ]
  },
  {
   "cell_type": "code",
   "execution_count": 43,
   "metadata": {
    "collapsed": false
   },
   "outputs": [],
   "source": [
    "trump_sentiment=trump_list_df['Tweet'].apply(sent_fun)\n",
    "clinton_sentiment=clinton_list_df['Tweet'].apply(sent_fun)\n",
    "clinton_and_trump_sentiment=trump_and_clinton_df['Tweet'].apply(sent_fun)"
   ]
  },
  {
   "cell_type": "code",
   "execution_count": 44,
   "metadata": {
    "collapsed": false
   },
   "outputs": [],
   "source": [
    "trump_sentiment=dict(trump_sentiment)\n",
    "clinton_sentiment=dict(clinton_sentiment)\n",
    "clinton_and_trump_sentiment=dict(clinton_and_trump_sentiment)"
   ]
  },
  {
   "cell_type": "code",
   "execution_count": 45,
   "metadata": {
    "collapsed": false
   },
   "outputs": [],
   "source": [
    "trump_sentiment_df=DataFrame(trump_sentiment)\n",
    "clinton_sentiment_df=DataFrame(clinton_sentiment)\n",
    "clinton_and_trump_sentiment_df=DataFrame(clinton_and_trump_sentiment)"
   ]
  },
  {
   "cell_type": "code",
   "execution_count": 46,
   "metadata": {
    "collapsed": false
   },
   "outputs": [
    {
     "data": {
      "text/html": [
       "<div>\n",
       "<table border=\"1\" class=\"dataframe\">\n",
       "  <thead>\n",
       "    <tr style=\"text-align: right;\">\n",
       "      <th></th>\n",
       "      <th>0</th>\n",
       "      <th>1</th>\n",
       "      <th>2</th>\n",
       "      <th>3</th>\n",
       "      <th>4</th>\n",
       "      <th>5</th>\n",
       "      <th>6</th>\n",
       "      <th>7</th>\n",
       "      <th>8</th>\n",
       "      <th>9</th>\n",
       "      <th>...</th>\n",
       "      <th>28605</th>\n",
       "      <th>28606</th>\n",
       "      <th>28607</th>\n",
       "      <th>28608</th>\n",
       "      <th>28609</th>\n",
       "      <th>28610</th>\n",
       "      <th>28611</th>\n",
       "      <th>28612</th>\n",
       "      <th>28613</th>\n",
       "      <th>28614</th>\n",
       "    </tr>\n",
       "  </thead>\n",
       "  <tbody>\n",
       "    <tr>\n",
       "      <th>compound</th>\n",
       "      <td>0</td>\n",
       "      <td>0.6249</td>\n",
       "      <td>-0.250</td>\n",
       "      <td>0</td>\n",
       "      <td>0.5598</td>\n",
       "      <td>-0.9313</td>\n",
       "      <td>0</td>\n",
       "      <td>-0.4767</td>\n",
       "      <td>-0.340</td>\n",
       "      <td>-0.5574</td>\n",
       "      <td>...</td>\n",
       "      <td>0</td>\n",
       "      <td>0</td>\n",
       "      <td>0</td>\n",
       "      <td>0</td>\n",
       "      <td>-0.8402</td>\n",
       "      <td>0</td>\n",
       "      <td>0</td>\n",
       "      <td>0</td>\n",
       "      <td>0.4523</td>\n",
       "      <td>0.2023</td>\n",
       "    </tr>\n",
       "    <tr>\n",
       "      <th>neg</th>\n",
       "      <td>0</td>\n",
       "      <td>0.0000</td>\n",
       "      <td>0.219</td>\n",
       "      <td>0</td>\n",
       "      <td>0.0000</td>\n",
       "      <td>0.4650</td>\n",
       "      <td>0</td>\n",
       "      <td>0.2610</td>\n",
       "      <td>0.091</td>\n",
       "      <td>0.2050</td>\n",
       "      <td>...</td>\n",
       "      <td>0</td>\n",
       "      <td>0</td>\n",
       "      <td>0</td>\n",
       "      <td>0</td>\n",
       "      <td>0.3080</td>\n",
       "      <td>0</td>\n",
       "      <td>0</td>\n",
       "      <td>0</td>\n",
       "      <td>0.0780</td>\n",
       "      <td>0.0980</td>\n",
       "    </tr>\n",
       "    <tr>\n",
       "      <th>neu</th>\n",
       "      <td>1</td>\n",
       "      <td>0.8490</td>\n",
       "      <td>0.625</td>\n",
       "      <td>1</td>\n",
       "      <td>0.7950</td>\n",
       "      <td>0.5350</td>\n",
       "      <td>1</td>\n",
       "      <td>0.6300</td>\n",
       "      <td>0.909</td>\n",
       "      <td>0.7950</td>\n",
       "      <td>...</td>\n",
       "      <td>1</td>\n",
       "      <td>1</td>\n",
       "      <td>1</td>\n",
       "      <td>1</td>\n",
       "      <td>0.6920</td>\n",
       "      <td>1</td>\n",
       "      <td>1</td>\n",
       "      <td>1</td>\n",
       "      <td>0.7300</td>\n",
       "      <td>0.7690</td>\n",
       "    </tr>\n",
       "    <tr>\n",
       "      <th>pos</th>\n",
       "      <td>0</td>\n",
       "      <td>0.1510</td>\n",
       "      <td>0.156</td>\n",
       "      <td>0</td>\n",
       "      <td>0.2050</td>\n",
       "      <td>0.0000</td>\n",
       "      <td>0</td>\n",
       "      <td>0.1090</td>\n",
       "      <td>0.000</td>\n",
       "      <td>0.0000</td>\n",
       "      <td>...</td>\n",
       "      <td>0</td>\n",
       "      <td>0</td>\n",
       "      <td>0</td>\n",
       "      <td>0</td>\n",
       "      <td>0.0000</td>\n",
       "      <td>0</td>\n",
       "      <td>0</td>\n",
       "      <td>0</td>\n",
       "      <td>0.1920</td>\n",
       "      <td>0.1320</td>\n",
       "    </tr>\n",
       "  </tbody>\n",
       "</table>\n",
       "<p>4 rows × 28615 columns</p>\n",
       "</div>"
      ],
      "text/plain": [
       "          0       1      2      3       4       5      6       7      8      \\\n",
       "compound      0  0.6249 -0.250      0  0.5598 -0.9313      0 -0.4767 -0.340   \n",
       "neg           0  0.0000  0.219      0  0.0000  0.4650      0  0.2610  0.091   \n",
       "neu           1  0.8490  0.625      1  0.7950  0.5350      1  0.6300  0.909   \n",
       "pos           0  0.1510  0.156      0  0.2050  0.0000      0  0.1090  0.000   \n",
       "\n",
       "           9       ...    28605  28606  28607  28608   28609  28610  28611  \\\n",
       "compound -0.5574   ...        0      0      0      0 -0.8402      0      0   \n",
       "neg       0.2050   ...        0      0      0      0  0.3080      0      0   \n",
       "neu       0.7950   ...        1      1      1      1  0.6920      1      1   \n",
       "pos       0.0000   ...        0      0      0      0  0.0000      0      0   \n",
       "\n",
       "          28612   28613   28614  \n",
       "compound      0  0.4523  0.2023  \n",
       "neg           0  0.0780  0.0980  \n",
       "neu           1  0.7300  0.7690  \n",
       "pos           0  0.1920  0.1320  \n",
       "\n",
       "[4 rows x 28615 columns]"
      ]
     },
     "execution_count": 46,
     "metadata": {},
     "output_type": "execute_result"
    }
   ],
   "source": [
    "trump_sentiment_df.head()\n"
   ]
  },
  {
   "cell_type": "code",
   "execution_count": 47,
   "metadata": {
    "collapsed": false
   },
   "outputs": [],
   "source": [
    "#Transpose the dataframes\n",
    "trump_sentiment_df=trump_sentiment_df.T\n",
    "clinton_sentiment_df=clinton_sentiment_df.T\n",
    "clinton_and_trump_sentiment_df=clinton_and_trump_sentiment_df.T"
   ]
  },
  {
   "cell_type": "code",
   "execution_count": 48,
   "metadata": {
    "collapsed": false
   },
   "outputs": [
    {
     "data": {
      "text/html": [
       "<div>\n",
       "<table border=\"1\" class=\"dataframe\">\n",
       "  <thead>\n",
       "    <tr style=\"text-align: right;\">\n",
       "      <th></th>\n",
       "      <th>compound</th>\n",
       "      <th>neg</th>\n",
       "      <th>neu</th>\n",
       "      <th>pos</th>\n",
       "    </tr>\n",
       "  </thead>\n",
       "  <tbody>\n",
       "    <tr>\n",
       "      <th>0</th>\n",
       "      <td>0.0000</td>\n",
       "      <td>0.000</td>\n",
       "      <td>1.000</td>\n",
       "      <td>0.000</td>\n",
       "    </tr>\n",
       "    <tr>\n",
       "      <th>1</th>\n",
       "      <td>0.6249</td>\n",
       "      <td>0.000</td>\n",
       "      <td>0.849</td>\n",
       "      <td>0.151</td>\n",
       "    </tr>\n",
       "    <tr>\n",
       "      <th>2</th>\n",
       "      <td>-0.2500</td>\n",
       "      <td>0.219</td>\n",
       "      <td>0.625</td>\n",
       "      <td>0.156</td>\n",
       "    </tr>\n",
       "    <tr>\n",
       "      <th>3</th>\n",
       "      <td>0.0000</td>\n",
       "      <td>0.000</td>\n",
       "      <td>1.000</td>\n",
       "      <td>0.000</td>\n",
       "    </tr>\n",
       "    <tr>\n",
       "      <th>4</th>\n",
       "      <td>0.5598</td>\n",
       "      <td>0.000</td>\n",
       "      <td>0.795</td>\n",
       "      <td>0.205</td>\n",
       "    </tr>\n",
       "  </tbody>\n",
       "</table>\n",
       "</div>"
      ],
      "text/plain": [
       "   compound    neg    neu    pos\n",
       "0    0.0000  0.000  1.000  0.000\n",
       "1    0.6249  0.000  0.849  0.151\n",
       "2   -0.2500  0.219  0.625  0.156\n",
       "3    0.0000  0.000  1.000  0.000\n",
       "4    0.5598  0.000  0.795  0.205"
      ]
     },
     "execution_count": 48,
     "metadata": {},
     "output_type": "execute_result"
    }
   ],
   "source": [
    "trump_sentiment_df.head()"
   ]
  },
  {
   "cell_type": "code",
   "execution_count": 49,
   "metadata": {
    "collapsed": true
   },
   "outputs": [],
   "source": [
    "#FInds the sum for each column\n",
    "trump_compound_sum=trump_sentiment_df['compound'].sum()\n",
    "trump_neg_sum=trump_sentiment_df['neg'].sum()\n",
    "trump_pos_sum=trump_sentiment_df['pos'].sum()\n",
    "trump_neu_sum=trump_sentiment_df['neu'].sum()\n"
   ]
  },
  {
   "cell_type": "code",
   "execution_count": 50,
   "metadata": {
    "collapsed": false
   },
   "outputs": [
    {
     "data": {
      "text/plain": [
       "2608.4979999999514"
      ]
     },
     "execution_count": 50,
     "metadata": {},
     "output_type": "execute_result"
    }
   ],
   "source": [
    "trump_neg_sum\n"
   ]
  },
  {
   "cell_type": "code",
   "execution_count": 51,
   "metadata": {
    "collapsed": false
   },
   "outputs": [
    {
     "data": {
      "text/plain": [
       "2212.3120000000263"
      ]
     },
     "execution_count": 51,
     "metadata": {},
     "output_type": "execute_result"
    }
   ],
   "source": [
    "\n",
    "trump_pos_sum"
   ]
  },
  {
   "cell_type": "code",
   "execution_count": 52,
   "metadata": {
    "collapsed": false
   },
   "outputs": [
    {
     "data": {
      "text/plain": [
       "-1309.0999999999924"
      ]
     },
     "execution_count": 52,
     "metadata": {},
     "output_type": "execute_result"
    }
   ],
   "source": [
    "trump_compound_sum"
   ]
  },
  {
   "cell_type": "code",
   "execution_count": 53,
   "metadata": {
    "collapsed": false
   },
   "outputs": [
    {
     "data": {
      "text/plain": [
       "23794.34800000055"
      ]
     },
     "execution_count": 53,
     "metadata": {},
     "output_type": "execute_result"
    }
   ],
   "source": [
    "trump_neu_sum"
   ]
  },
  {
   "cell_type": "code",
   "execution_count": 54,
   "metadata": {
    "collapsed": false
   },
   "outputs": [
    {
     "data": {
      "text/html": [
       "<div>\n",
       "<table border=\"1\" class=\"dataframe\">\n",
       "  <thead>\n",
       "    <tr style=\"text-align: right;\">\n",
       "      <th></th>\n",
       "      <th>compound</th>\n",
       "      <th>neg</th>\n",
       "      <th>neu</th>\n",
       "      <th>pos</th>\n",
       "    </tr>\n",
       "  </thead>\n",
       "  <tbody>\n",
       "    <tr>\n",
       "      <th>0</th>\n",
       "      <td>0.0000</td>\n",
       "      <td>0.000</td>\n",
       "      <td>1.000</td>\n",
       "      <td>0.000</td>\n",
       "    </tr>\n",
       "    <tr>\n",
       "      <th>1</th>\n",
       "      <td>0.0000</td>\n",
       "      <td>0.000</td>\n",
       "      <td>1.000</td>\n",
       "      <td>0.000</td>\n",
       "    </tr>\n",
       "    <tr>\n",
       "      <th>2</th>\n",
       "      <td>-0.4194</td>\n",
       "      <td>0.331</td>\n",
       "      <td>0.480</td>\n",
       "      <td>0.188</td>\n",
       "    </tr>\n",
       "    <tr>\n",
       "      <th>3</th>\n",
       "      <td>0.0000</td>\n",
       "      <td>0.000</td>\n",
       "      <td>1.000</td>\n",
       "      <td>0.000</td>\n",
       "    </tr>\n",
       "    <tr>\n",
       "      <th>4</th>\n",
       "      <td>-0.4404</td>\n",
       "      <td>0.116</td>\n",
       "      <td>0.884</td>\n",
       "      <td>0.000</td>\n",
       "    </tr>\n",
       "  </tbody>\n",
       "</table>\n",
       "</div>"
      ],
      "text/plain": [
       "   compound    neg    neu    pos\n",
       "0    0.0000  0.000  1.000  0.000\n",
       "1    0.0000  0.000  1.000  0.000\n",
       "2   -0.4194  0.331  0.480  0.188\n",
       "3    0.0000  0.000  1.000  0.000\n",
       "4   -0.4404  0.116  0.884  0.000"
      ]
     },
     "execution_count": 54,
     "metadata": {},
     "output_type": "execute_result"
    }
   ],
   "source": [
    "clinton_sentiment_df.head()"
   ]
  },
  {
   "cell_type": "code",
   "execution_count": 55,
   "metadata": {
    "collapsed": false
   },
   "outputs": [],
   "source": [
    "clinton_compound_sum=clinton_sentiment_df['compound'].sum()\n",
    "clinton_neg_sum=clinton_sentiment_df['neg'].sum()\n",
    "clinton_pos_sum=clinton_sentiment_df['pos'].sum()\n",
    "clinton_neu_sum=clinton_sentiment_df['neu'].sum()"
   ]
  },
  {
   "cell_type": "code",
   "execution_count": 56,
   "metadata": {
    "collapsed": false
   },
   "outputs": [
    {
     "data": {
      "text/plain": [
       "-9.78039999999998"
      ]
     },
     "execution_count": 56,
     "metadata": {},
     "output_type": "execute_result"
    }
   ],
   "source": [
    "clinton_compound_sum"
   ]
  },
  {
   "cell_type": "code",
   "execution_count": 57,
   "metadata": {
    "collapsed": false
   },
   "outputs": [
    {
     "data": {
      "text/plain": [
       "110.62799999999996"
      ]
     },
     "execution_count": 57,
     "metadata": {},
     "output_type": "execute_result"
    }
   ],
   "source": [
    "clinton_neg_sum"
   ]
  },
  {
   "cell_type": "code",
   "execution_count": 58,
   "metadata": {
    "collapsed": false
   },
   "outputs": [
    {
     "data": {
      "text/plain": [
       "105.69400000000005"
      ]
     },
     "execution_count": 58,
     "metadata": {},
     "output_type": "execute_result"
    }
   ],
   "source": [
    "clinton_pos_sum"
   ]
  },
  {
   "cell_type": "code",
   "execution_count": 59,
   "metadata": {
    "collapsed": false
   },
   "outputs": [
    {
     "data": {
      "text/plain": [
       "1211.681999999998"
      ]
     },
     "execution_count": 59,
     "metadata": {},
     "output_type": "execute_result"
    }
   ],
   "source": [
    "clinton_neu_sum"
   ]
  },
  {
   "cell_type": "code",
   "execution_count": 60,
   "metadata": {
    "collapsed": true
   },
   "outputs": [],
   "source": [
    "clinton_and_trump_compound_sum=clinton_and_trump_sentiment_df['compound'].sum()\n",
    "clinton_and_trump_neg_sum=clinton_and_trump_sentiment_df['neg'].sum()\n",
    "clinton_and_trump_pos_sum=clinton_and_trump_sentiment_df['pos'].sum()\n",
    "clinton_and_trump_neu_sum=clinton_and_trump_sentiment_df['neu'].sum()"
   ]
  },
  {
   "cell_type": "code",
   "execution_count": 61,
   "metadata": {
    "collapsed": false
   },
   "outputs": [
    {
     "data": {
      "text/plain": [
       "-55.14179999999995"
      ]
     },
     "execution_count": 61,
     "metadata": {},
     "output_type": "execute_result"
    }
   ],
   "source": [
    "clinton_and_trump_compound_sum"
   ]
  },
  {
   "cell_type": "code",
   "execution_count": 62,
   "metadata": {
    "collapsed": false
   },
   "outputs": [
    {
     "data": {
      "text/plain": [
       "96.28000000000041"
      ]
     },
     "execution_count": 62,
     "metadata": {},
     "output_type": "execute_result"
    }
   ],
   "source": [
    "clinton_and_trump_neg_sum"
   ]
  },
  {
   "cell_type": "code",
   "execution_count": 63,
   "metadata": {
    "collapsed": false
   },
   "outputs": [
    {
     "data": {
      "text/plain": [
       "75.93300000000019"
      ]
     },
     "execution_count": 63,
     "metadata": {},
     "output_type": "execute_result"
    }
   ],
   "source": [
    "clinton_and_trump_pos_sum"
   ]
  },
  {
   "cell_type": "code",
   "execution_count": 64,
   "metadata": {
    "collapsed": false
   },
   "outputs": [
    {
     "data": {
      "text/plain": [
       "636.837999999998"
      ]
     },
     "execution_count": 64,
     "metadata": {},
     "output_type": "execute_result"
    }
   ],
   "source": [
    "clinton_and_trump_neu_sum"
   ]
  },
  {
   "cell_type": "code",
   "execution_count": 65,
   "metadata": {
    "collapsed": false
   },
   "outputs": [],
   "source": [
    "#To now see the tweets and their appertaining sentiments:\n",
    "trump_frames=[trump_list_df,trump_sentiment_df]\n",
    "trump_frames_df=pd.concat(trump_frames, axis=1)\n",
    "clinton_frames=[clinton_list_df,clinton_sentiment_df]\n",
    "clinton_frames_df=pd.concat(clinton_frames, axis=1)\n",
    "clinton_and_trump_frames=[trump_and_clinton_df,clinton_and_trump_sentiment_df]\n",
    "clinton_and_trump_frames_df=pd.concat(clinton_and_trump_frames, axis=1)"
   ]
  },
  {
   "cell_type": "code",
   "execution_count": 66,
   "metadata": {
    "collapsed": false
   },
   "outputs": [
    {
     "data": {
      "text/html": [
       "<div>\n",
       "<table border=\"1\" class=\"dataframe\">\n",
       "  <thead>\n",
       "    <tr style=\"text-align: right;\">\n",
       "      <th></th>\n",
       "      <th>Tweet</th>\n",
       "      <th>compound</th>\n",
       "      <th>neg</th>\n",
       "      <th>neu</th>\n",
       "      <th>pos</th>\n",
       "    </tr>\n",
       "  </thead>\n",
       "  <tbody>\n",
       "    <tr>\n",
       "      <th>0</th>\n",
       "      <td>has donald trump ever actually been to london</td>\n",
       "      <td>0.0000</td>\n",
       "      <td>0.000</td>\n",
       "      <td>1.000</td>\n",
       "      <td>0.000</td>\n",
       "    </tr>\n",
       "    <tr>\n",
       "      <th>1</th>\n",
       "      <td>rt  davidlimbaugh  regardless of your opinion ...</td>\n",
       "      <td>0.6249</td>\n",
       "      <td>0.000</td>\n",
       "      <td>0.849</td>\n",
       "      <td>0.151</td>\n",
       "    </tr>\n",
       "    <tr>\n",
       "      <th>2</th>\n",
       "      <td>rt  okaymoe  donald trump look like a crispy l...</td>\n",
       "      <td>-0.2500</td>\n",
       "      <td>0.219</td>\n",
       "      <td>0.625</td>\n",
       "      <td>0.156</td>\n",
       "    </tr>\n",
       "    <tr>\n",
       "      <th>3</th>\n",
       "      <td>rt  lordsnow  arya s list    the mountain  que...</td>\n",
       "      <td>0.0000</td>\n",
       "      <td>0.000</td>\n",
       "      <td>1.000</td>\n",
       "      <td>0.000</td>\n",
       "    </tr>\n",
       "    <tr>\n",
       "      <th>4</th>\n",
       "      <td>mk8  xjmxmara omg this is so true   must rt a...</td>\n",
       "      <td>0.5598</td>\n",
       "      <td>0.000</td>\n",
       "      <td>0.795</td>\n",
       "      <td>0.205</td>\n",
       "    </tr>\n",
       "  </tbody>\n",
       "</table>\n",
       "</div>"
      ],
      "text/plain": [
       "                                               Tweet  compound    neg    neu  \\\n",
       "0     has donald trump ever actually been to london     0.0000  0.000  1.000   \n",
       "1  rt  davidlimbaugh  regardless of your opinion ...    0.6249  0.000  0.849   \n",
       "2  rt  okaymoe  donald trump look like a crispy l...   -0.2500  0.219  0.625   \n",
       "3  rt  lordsnow  arya s list    the mountain  que...    0.0000  0.000  1.000   \n",
       "4   mk8  xjmxmara omg this is so true   must rt a...    0.5598  0.000  0.795   \n",
       "\n",
       "     pos  \n",
       "0  0.000  \n",
       "1  0.151  \n",
       "2  0.156  \n",
       "3  0.000  \n",
       "4  0.205  "
      ]
     },
     "execution_count": 66,
     "metadata": {},
     "output_type": "execute_result"
    }
   ],
   "source": [
    "trump_frames_df.head()"
   ]
  },
  {
   "cell_type": "code",
   "execution_count": 67,
   "metadata": {
    "collapsed": false
   },
   "outputs": [
    {
     "data": {
      "text/html": [
       "<div>\n",
       "<table border=\"1\" class=\"dataframe\">\n",
       "  <thead>\n",
       "    <tr style=\"text-align: right;\">\n",
       "      <th></th>\n",
       "      <th>Tweet</th>\n",
       "      <th>compound</th>\n",
       "      <th>neg</th>\n",
       "      <th>neu</th>\n",
       "      <th>pos</th>\n",
       "    </tr>\n",
       "  </thead>\n",
       "  <tbody>\n",
       "    <tr>\n",
       "      <th>0</th>\n",
       "      <td>rt  pollreport  president democratic preferenc...</td>\n",
       "      <td>0.0000</td>\n",
       "      <td>0.000</td>\n",
       "      <td>1.000</td>\n",
       "      <td>0.000</td>\n",
       "    </tr>\n",
       "    <tr>\n",
       "      <th>1</th>\n",
       "      <td>clinton  obama   amp  panetta benghazi coverup...</td>\n",
       "      <td>0.0000</td>\n",
       "      <td>0.000</td>\n",
       "      <td>1.000</td>\n",
       "      <td>0.000</td>\n",
       "    </tr>\n",
       "    <tr>\n",
       "      <th>2</th>\n",
       "      <td>clinton wins on budget but more lies ahead</td>\n",
       "      <td>-0.4194</td>\n",
       "      <td>0.331</td>\n",
       "      <td>0.480</td>\n",
       "      <td>0.188</td>\n",
       "    </tr>\n",
       "    <tr>\n",
       "      <th>3</th>\n",
       "      <td>rt  eileenleft  new poll finds  hillary clinto...</td>\n",
       "      <td>0.0000</td>\n",
       "      <td>0.000</td>\n",
       "      <td>1.000</td>\n",
       "      <td>0.000</td>\n",
       "    </tr>\n",
       "    <tr>\n",
       "      <th>4</th>\n",
       "      <td>rt  mtapscott  new clinton email shows dod tol...</td>\n",
       "      <td>-0.4404</td>\n",
       "      <td>0.116</td>\n",
       "      <td>0.884</td>\n",
       "      <td>0.000</td>\n",
       "    </tr>\n",
       "  </tbody>\n",
       "</table>\n",
       "</div>"
      ],
      "text/plain": [
       "                                               Tweet  compound    neg    neu  \\\n",
       "0  rt  pollreport  president democratic preferenc...    0.0000  0.000  1.000   \n",
       "1  clinton  obama   amp  panetta benghazi coverup...    0.0000  0.000  1.000   \n",
       "2         clinton wins on budget but more lies ahead   -0.4194  0.331  0.480   \n",
       "3  rt  eileenleft  new poll finds  hillary clinto...    0.0000  0.000  1.000   \n",
       "4  rt  mtapscott  new clinton email shows dod tol...   -0.4404  0.116  0.884   \n",
       "\n",
       "     pos  \n",
       "0  0.000  \n",
       "1  0.000  \n",
       "2  0.188  \n",
       "3  0.000  \n",
       "4  0.000  "
      ]
     },
     "execution_count": 67,
     "metadata": {},
     "output_type": "execute_result"
    }
   ],
   "source": [
    "clinton_frames_df.head()"
   ]
  },
  {
   "cell_type": "code",
   "execution_count": 68,
   "metadata": {
    "collapsed": false
   },
   "outputs": [
    {
     "data": {
      "text/html": [
       "<div>\n",
       "<table border=\"1\" class=\"dataframe\">\n",
       "  <thead>\n",
       "    <tr style=\"text-align: right;\">\n",
       "      <th></th>\n",
       "      <th>Tweet</th>\n",
       "      <th>compound</th>\n",
       "      <th>neg</th>\n",
       "      <th>neu</th>\n",
       "      <th>pos</th>\n",
       "    </tr>\n",
       "  </thead>\n",
       "  <tbody>\n",
       "    <tr>\n",
       "      <th>0</th>\n",
       "      <td>rt  iainmartin1  here s hillary clinton condem...</td>\n",
       "      <td>0.0000</td>\n",
       "      <td>0.000</td>\n",
       "      <td>1.000</td>\n",
       "      <td>0.000</td>\n",
       "    </tr>\n",
       "    <tr>\n",
       "      <th>1</th>\n",
       "      <td>rt  hillaryclinton  trump s hateful comments a...</td>\n",
       "      <td>-0.3612</td>\n",
       "      <td>0.230</td>\n",
       "      <td>0.592</td>\n",
       "      <td>0.178</td>\n",
       "    </tr>\n",
       "    <tr>\n",
       "      <th>2</th>\n",
       "      <td>rt  iainmartin1  here s hillary clinton condem...</td>\n",
       "      <td>0.0000</td>\n",
       "      <td>0.000</td>\n",
       "      <td>1.000</td>\n",
       "      <td>0.000</td>\n",
       "    </tr>\n",
       "    <tr>\n",
       "      <th>3</th>\n",
       "      <td>the two leading presidential candidates    cli...</td>\n",
       "      <td>0.1531</td>\n",
       "      <td>0.113</td>\n",
       "      <td>0.750</td>\n",
       "      <td>0.137</td>\n",
       "    </tr>\n",
       "    <tr>\n",
       "      <th>4</th>\n",
       "      <td>rt  hillaryclinton  this is reprehensible  pre...</td>\n",
       "      <td>-0.0754</td>\n",
       "      <td>0.129</td>\n",
       "      <td>0.755</td>\n",
       "      <td>0.116</td>\n",
       "    </tr>\n",
       "  </tbody>\n",
       "</table>\n",
       "</div>"
      ],
      "text/plain": [
       "                                               Tweet  compound    neg    neu  \\\n",
       "0  rt  iainmartin1  here s hillary clinton condem...    0.0000  0.000  1.000   \n",
       "1  rt  hillaryclinton  trump s hateful comments a...   -0.3612  0.230  0.592   \n",
       "2  rt  iainmartin1  here s hillary clinton condem...    0.0000  0.000  1.000   \n",
       "3  the two leading presidential candidates    cli...    0.1531  0.113  0.750   \n",
       "4  rt  hillaryclinton  this is reprehensible  pre...   -0.0754  0.129  0.755   \n",
       "\n",
       "     pos  \n",
       "0  0.000  \n",
       "1  0.178  \n",
       "2  0.000  \n",
       "3  0.137  \n",
       "4  0.116  "
      ]
     },
     "execution_count": 68,
     "metadata": {},
     "output_type": "execute_result"
    }
   ],
   "source": [
    "clinton_and_trump_frames_df.head()"
   ]
  },
  {
   "cell_type": "markdown",
   "metadata": {},
   "source": [
    "From this point, we could then create a classifier from the sentiments. But for now, this concludes the project."
   ]
  }
 ],
 "metadata": {
  "kernelspec": {
   "display_name": "Python 2",
   "language": "python",
   "name": "python2"
  },
  "language_info": {
   "codemirror_mode": {
    "name": "ipython",
    "version": 2
   },
   "file_extension": ".py",
   "mimetype": "text/x-python",
   "name": "python",
   "nbconvert_exporter": "python",
   "pygments_lexer": "ipython2",
   "version": "2.7.11"
  }
 },
 "nbformat": 4,
 "nbformat_minor": 0
}
